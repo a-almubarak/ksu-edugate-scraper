{
 "cells": [
  {
   "cell_type": "code",
   "execution_count": null,
   "metadata": {
    "scrolled": true
   },
   "outputs": [],
   "source": [
    "!pip install selenium"
   ]
  },
  {
   "cell_type": "code",
   "execution_count": null,
   "metadata": {
    "scrolled": false
   },
   "outputs": [],
   "source": [
    "!pip install webdriver_manager"
   ]
  },
  {
   "cell_type": "code",
   "execution_count": null,
   "metadata": {},
   "outputs": [],
   "source": [
    "!pip install bs4"
   ]
  },
  {
   "cell_type": "code",
   "execution_count": 54,
   "metadata": {},
   "outputs": [],
   "source": [
    "from bs4 import BeautifulSoup"
   ]
  },
  {
   "cell_type": "code",
   "execution_count": null,
   "metadata": {},
   "outputs": [],
   "source": []
  },
  {
   "cell_type": "code",
   "execution_count": 55,
   "metadata": {
    "scrolled": false
   },
   "outputs": [],
   "source": [
    "from selenium import webdriver\n",
    "from webdriver_manager.chrome import ChromeDriverManager\n",
    "from selenium.webdriver.common.by import By\n",
    "from selenium.webdriver.support.ui import WebDriverWait\n",
    "from selenium.webdriver.support import expected_conditions as EC"
   ]
  },
  {
   "cell_type": "code",
   "execution_count": 56,
   "metadata": {},
   "outputs": [
    {
     "name": "stderr",
     "output_type": "stream",
     "text": [
      "\n",
      "\n",
      "====== WebDriver manager ======\n",
      "Current google-chrome version is 98.0.4758\n",
      "Get LATEST chromedriver version for 98.0.4758 google-chrome\n",
      "There is no [win32] chromedriver for browser  in cache\n",
      "Trying to download new driver from https://chromedriver.storage.googleapis.com/98.0.4758.80/chromedriver_win32.zip\n",
      "Driver has been saved in cache [C:\\Users\\euh27\\.wdm\\drivers\\chromedriver\\win32\\98.0.4758.80]\n"
     ]
    }
   ],
   "source": [
    "driver = webdriver.Chrome(ChromeDriverManager().install())"
   ]
  },
  {
   "cell_type": "code",
   "execution_count": 57,
   "metadata": {},
   "outputs": [],
   "source": [
    "driver.get(\"https://edugate.ksu.edu.sa/ksu/ui/guest/timetable/index/scheduleTreeCoursesIndex.faces\")"
   ]
  },
  {
   "cell_type": "code",
   "execution_count": null,
   "metadata": {},
   "outputs": [],
   "source": [
    "driver.find_element_by_css_selector('#dtree0 > div:nth-child(31) > a.node').click()"
   ]
  },
  {
   "cell_type": "code",
   "execution_count": null,
   "metadata": {},
   "outputs": [],
   "source": [
    "driver.find_element_by_css_selector('#dtree16 > div:nth-child(7) > a.node').click()"
   ]
  },
  {
   "cell_type": "code",
   "execution_count": null,
   "metadata": {},
   "outputs": [],
   "source": [
    "driver.find_element_by_css_selector('#stree278').click()"
   ]
  },
  {
   "cell_type": "code",
   "execution_count": null,
   "metadata": {},
   "outputs": [],
   "source": [
    "driver.find_element_by_css_selector('#myForm > table:nth-child(6) > tbody > tr:nth-child(1) > td > table > tbody > tr > td > table > tbody > tr:nth-child(5) > td:nth-child(6) > a:nth-child(2) > table > tbody > tr > td:nth-child(2) > span').click()"
   ]
  },
  {
   "cell_type": "code",
   "execution_count": 58,
   "metadata": {
    "scrolled": true
   },
   "outputs": [],
   "source": [
    "content = driver.page_source\n",
    "soup = BeautifulSoup(content,features='lxml')\n",
    "rt= soup.find(id=\"myForm:timetable\")\n",
    "# rt"
   ]
  },
  {
   "cell_type": "code",
   "execution_count": 59,
   "metadata": {},
   "outputs": [
    {
     "name": "stdout",
     "output_type": "stream",
     "text": [
      "793\n"
     ]
    }
   ],
   "source": [
    "trs = rt.find_all('tr')\n",
    "print(len(trs[1:]))"
   ]
  },
  {
   "cell_type": "code",
   "execution_count": 60,
   "metadata": {
    "scrolled": true
   },
   "outputs": [],
   "source": [
    "def press_details(index=1):\n",
    "    details_selector = '#myForm\\:timetable > tbody > tr:nth-child({}) > td:nth-child(8) > a'\n",
    "    details_button = WebDriverWait(driver,10).until(EC.element_to_be_clickable((By.CSS_SELECTOR,details_selector.format(index))))\n",
    "    details_button.click()\n",
    "# press_details(3)"
   ]
  },
  {
   "cell_type": "code",
   "execution_count": 61,
   "metadata": {},
   "outputs": [],
   "source": [
    "def press_details_js(index=0):\n",
    "    driver.execute_script(f\"showToolTipDilaog(event,'{index}');\")\n",
    "# press_details()"
   ]
  },
  {
   "cell_type": "code",
   "execution_count": null,
   "metadata": {},
   "outputs": [],
   "source": [
    "times = driver.find_element_by_id('sectionDiv').find_elements_by_tag_name('nobr')\n",
    "if times:\n",
    "for i in times:\n",
    "    print(i.text)\n",
    "len(times)"
   ]
  },
  {
   "cell_type": "code",
   "execution_count": 62,
   "metadata": {},
   "outputs": [],
   "source": [
    "def get_times():\n",
    "#     times = driver.find_element_by_id('sectionDiv').find_elements_by_tag_name('nobr')\n",
    "    times = WebDriverWait(driver,10).until(EC.element_to_be_clickable((By.ID,'sectionDiv'))).find_elements_by_tag_name('nobr')\n",
    "    if not times:\n",
    "        return None\n",
    "    n=len(times)//3\n",
    "    return [times[i*3].text for i in range(n)], [times[1+i*3].text for i in range(n)] , [times[2+i*3].text for i in range(n)]\n",
    "# tmp = {}\n",
    "# tmp['days'], tmp['time'], tmp['location'] = get_times()\n",
    "# print(tmp)"
   ]
  },
  {
   "cell_type": "code",
   "execution_count": 63,
   "metadata": {},
   "outputs": [],
   "source": [
    "def get_final_info():\n",
    "    return driver.find_element_by_id('examDayDiv').text,driver.find_element_by_id('examTimeDiv').text,driver.find_element_by_id('examDateDiv').text\n",
    "# print(get_final_info())"
   ]
  },
  {
   "cell_type": "code",
   "execution_count": 64,
   "metadata": {},
   "outputs": [],
   "source": [
    "def get_instructor():\n",
    "    return driver.find_element_by_id('instructorDiv').text\n",
    "# print(get_instructor())"
   ]
  },
  {
   "cell_type": "code",
   "execution_count": 65,
   "metadata": {},
   "outputs": [],
   "source": [
    "def close():\n",
    "    driver.find_element_by_css_selector('#dlg > div.pui-dialog-titlebar.ui-widget-header1.ui-helper-clearfix.ui-corner-top > a > span').click()"
   ]
  },
  {
   "cell_type": "code",
   "execution_count": 66,
   "metadata": {
    "scrolled": false
   },
   "outputs": [
    {
     "data": {
      "text/plain": [
       "793"
      ]
     },
     "execution_count": 66,
     "metadata": {},
     "output_type": "execute_result"
    }
   ],
   "source": [
    "ctrs = trs[1:]\n",
    "# print(ctrs)\n",
    "len(ctrs)"
   ]
  },
  {
   "cell_type": "code",
   "execution_count": 67,
   "metadata": {
    "scrolled": true
   },
   "outputs": [],
   "source": [
    "res = []\n",
    "x =0\n",
    "for i in ctrs:\n",
    "    tds = i.find_all('td');\n",
    "    if 'مشروع' in tds[3].text or 'تدريب' in tds[3].text :\n",
    "        close()\n",
    "        x+=1\n",
    "        continue\n",
    "    tmp = {\n",
    "        'cid': tds[0].text,\n",
    "        'cname': tds[1].text,\n",
    "        'section': tds[2].text,\n",
    "        'activity': tds[3].text,\n",
    "        'chours': tds[4].text,\n",
    "        'gender': tds[5].text,\n",
    "        'status': tds[6].text\n",
    "    }\n",
    "    press_details_js(x)\n",
    "    driver.implicitly_wait(5)\n",
    "    times = get_times()\n",
    "    \n",
    "    tmp['days'],tmp['time'],tmp['location']=(times) if times else ('','','')\n",
    "    \n",
    "    final_info = get_final_info()\n",
    "    tmp['fexamday'],tmp['fexamtime'],tmp['fexamdate']=final_info\n",
    "    \n",
    "    tmp['instructor'] = get_instructor()\n",
    "    driver.implicitly_wait(5)\n",
    "    close()\n",
    "    driver.implicitly_wait(5)\n",
    "    res.append(tmp)\n",
    "#     print(res)\n",
    "    x+=1\n",
    "#     if(x==5):\n",
    "#         break;"
   ]
  },
  {
   "cell_type": "code",
   "execution_count": null,
   "metadata": {},
   "outputs": [],
   "source": [
    "# y = [x.find_all('td') for x in ctrs]\n",
    "# z = [i for i in y if i[3].text=='مشروع']\n",
    "# for i in z:\n",
    "#     if 'مشروع' not in i[3].text:\n",
    "#         print(i)"
   ]
  },
  {
   "cell_type": "code",
   "execution_count": 68,
   "metadata": {
    "scrolled": true
   },
   "outputs": [
    {
     "data": {
      "text/plain": [
       "764"
      ]
     },
     "execution_count": 68,
     "metadata": {},
     "output_type": "execute_result"
    }
   ],
   "source": [
    "len(res)"
   ]
  },
  {
   "cell_type": "code",
   "execution_count": 52,
   "metadata": {},
   "outputs": [
    {
     "data": {
      "text/plain": [
       "{'رمز المقرر': '101 عرب',\n",
       " 'اسم المقرر': 'المهارات اللغوية',\n",
       " 'الشعبة': '3243',\n",
       " 'النشاط': 'محاضرة',\n",
       " 'الساعات': '2',\n",
       " 'الجنس': 'الرياض- طلاب',\n",
       " 'الحالة': 'مفتوحة',\n",
       " 'days': ['1 3 5'],\n",
       " 'time': ['  08:00 ص - 08:50 ص'],\n",
       " 'location': ['  0140 04 1 A 097'],\n",
       " 'fexamday': '2',\n",
       " 'fexamtime': '01:00 م - 04:00 م',\n",
       " 'fexamdate': '1443-10-29',\n",
       " 'instructor': 'بندر عبدالله ناصر بن محسن'}"
      ]
     },
     "execution_count": 52,
     "metadata": {},
     "output_type": "execute_result"
    }
   ],
   "source": [
    "res[4]"
   ]
  },
  {
   "cell_type": "code",
   "execution_count": 69,
   "metadata": {},
   "outputs": [],
   "source": [
    "import csv\n",
    "keys = res[0].keys()\n",
    "\n",
    "with open('swe_courses.csv', 'w',encoding='utf-8-sig', newline='') as output_file:\n",
    "    dict_writer = csv.DictWriter(output_file, keys)\n",
    "    dict_writer.writeheader()\n",
    "    dict_writer.writerows(res)"
   ]
  },
  {
   "cell_type": "code",
   "execution_count": null,
   "metadata": {},
   "outputs": [],
   "source": []
  }
 ],
 "metadata": {
  "kernelspec": {
   "display_name": "Python 3",
   "language": "python",
   "name": "python3"
  },
  "language_info": {
   "codemirror_mode": {
    "name": "ipython",
    "version": 3
   },
   "file_extension": ".py",
   "mimetype": "text/x-python",
   "name": "python",
   "nbconvert_exporter": "python",
   "pygments_lexer": "ipython3",
   "version": "3.7.6"
  }
 },
 "nbformat": 4,
 "nbformat_minor": 4
}
