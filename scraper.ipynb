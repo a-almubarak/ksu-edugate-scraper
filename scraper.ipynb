{
 "cells": [
  {
   "cell_type": "code",
   "execution_count": null,
   "metadata": {
    "scrolled": true
   },
   "outputs": [],
   "source": [
    "!pip install selenium"
   ]
  },
  {
   "cell_type": "code",
   "execution_count": null,
   "metadata": {
    "scrolled": false
   },
   "outputs": [],
   "source": [
    "!pip install webdriver_manager"
   ]
  },
  {
   "cell_type": "code",
   "execution_count": null,
   "metadata": {},
   "outputs": [],
   "source": [
    "!pip install bs4"
   ]
  },
  {
   "cell_type": "code",
   "execution_count": null,
   "metadata": {
    "scrolled": false
   },
   "outputs": [],
   "source": [
    "from selenium import webdriver\n",
    "from webdriver_manager.chrome import ChromeDriverManager\n",
    "from selenium.webdriver.common.by import By\n",
    "from selenium.webdriver.support.ui import WebDriverWait\n",
    "from selenium.webdriver.support import expected_conditions as EC\n",
    "from selenium.webdriver.support.ui import Select\n",
    "from selenium.webdriver.common.keys import Keys"
   ]
  },
  {
   "cell_type": "code",
   "execution_count": null,
   "metadata": {},
   "outputs": [],
   "source": [
    "from bs4 import BeautifulSoup"
   ]
  },
  {
   "cell_type": "code",
   "execution_count": null,
   "metadata": {
    "scrolled": true
   },
   "outputs": [],
   "source": [
    "driver = webdriver.Chrome(ChromeDriverManager().install())"
   ]
  },
  {
   "cell_type": "code",
   "execution_count": null,
   "metadata": {},
   "outputs": [],
   "source": [
    "driver.get(\"https://edugate.ksu.edu.sa/ksu/ui/guest/timetable/index/mainScheduleTreeCoursesIndex.faces\")"
   ]
  },
  {
   "cell_type": "code",
   "execution_count": null,
   "metadata": {},
   "outputs": [],
   "source": [
    "driver.find_element_by_id('myForm:timetableTreeId').click()"
   ]
  },
  {
   "cell_type": "code",
   "execution_count": null,
   "metadata": {},
   "outputs": [],
   "source": [
    "def has_setIndex(tag):\n",
    "    return tag.has_attr('href') and 'setIndex' in tag['href']"
   ]
  },
  {
   "cell_type": "code",
   "execution_count": null,
   "metadata": {},
   "outputs": [],
   "source": [
    "source = driver.page_source\n",
    "sp = BeautifulSoup(source,'lxml')\n",
    "tree = sp.find('div',{\"class\":\"dtree\"})\n",
    "\n",
    "majors_dict = {}\n",
    "for i in tree.find_all(has_setIndex):\n",
    "    start = i['href'].find(\"'\") + 1\n",
    "    end = i['href'].rfind(\"'\")\n",
    "    majors_dict[int(i['href'][start:end])] = i.text "
   ]
  },
  {
   "cell_type": "code",
   "execution_count": null,
   "metadata": {},
   "outputs": [],
   "source": [
    "print(\"%5s\" % \"id:\",\"Major Name\")\n",
    "for i, major in majors_dict.items():\n",
    "    print(\"%5d\" %i, ':', major)"
   ]
  },
  {
   "cell_type": "code",
   "execution_count": null,
   "metadata": {},
   "outputs": [],
   "source": [
    "def select_major(mId):\n",
    "    x = str(mId)\n",
    "    driver.execute_script(f\"setIndex('{x[2:]}_{x[-2]}_{x[-1]}')\")"
   ]
  },
  {
   "cell_type": "code",
   "execution_count": null,
   "metadata": {},
   "outputs": [],
   "source": [
    "mId = int(input(\"Enter major id from the above table:\"))\n",
    "if mId not in majors_dict:\n",
    "    print(\"Wrong ID, try again!\")"
   ]
  },
  {
   "cell_type": "code",
   "execution_count": null,
   "metadata": {},
   "outputs": [],
   "source": [
    "select_major(mId)"
   ]
  },
  {
   "cell_type": "code",
   "execution_count": null,
   "metadata": {},
   "outputs": [],
   "source": [
    "driver.find_element_by_xpath('//*[@id=\"myForm\"]/table[4]/tbody/tr[1]/td/table/tbody/tr/td/table/tbody/tr[5]/td[6]/a[2]/table/tbody/tr/td[1]/img').click()"
   ]
  },
  {
   "cell_type": "code",
   "execution_count": null,
   "metadata": {
    "scrolled": true
   },
   "outputs": [],
   "source": [
    "content = driver.page_source\n",
    "soup = BeautifulSoup(content,features='lxml')\n",
    "rt= soup.find(id=\"myForm:timetable\")\n",
    "# rt"
   ]
  },
  {
   "cell_type": "code",
   "execution_count": null,
   "metadata": {},
   "outputs": [],
   "source": [
    "trs = rt.find_all('tr')\n",
    "print(len(trs[1:]))"
   ]
  },
  {
   "cell_type": "code",
   "execution_count": null,
   "metadata": {
    "scrolled": true
   },
   "outputs": [],
   "source": [
    "def press_details(index=1):\n",
    "    details_selector = '#myForm\\:timetable > tbody > tr:nth-child({}) > td:nth-child(8) > a'\n",
    "    details_button = WebDriverWait(driver,10).until(EC.element_to_be_clickable((By.CSS_SELECTOR,details_selector.format(index))))\n",
    "    details_button.click()"
   ]
  },
  {
   "cell_type": "code",
   "execution_count": null,
   "metadata": {},
   "outputs": [],
   "source": [
    "def press_details_js(index=0):\n",
    "    driver.execute_script(f\"showToolTipDilaog(event,'{index}');\")"
   ]
  },
  {
   "cell_type": "code",
   "execution_count": null,
   "metadata": {},
   "outputs": [],
   "source": [
    "def get_times():\n",
    "#     times = driver.find_element_by_id('sectionDiv').find_elements_by_tag_name('nobr')\n",
    "    times = WebDriverWait(driver,10).until(EC.element_to_be_clickable((By.ID,'sectionDiv'))).find_elements_by_tag_name('nobr')\n",
    "    if not times:\n",
    "        return None\n",
    "    n=len(times)//3\n",
    "    return [times[i*3].text for i in range(n)], [times[1+i*3].text for i in range(n)] , [times[2+i*3].text for i in range(n)]"
   ]
  },
  {
   "cell_type": "code",
   "execution_count": null,
   "metadata": {},
   "outputs": [],
   "source": [
    "def get_final_info():\n",
    "    return driver.find_element_by_id('examDayDiv').text,driver.find_element_by_id('examTimeDiv').text,driver.find_element_by_id('examDateDiv').text"
   ]
  },
  {
   "cell_type": "code",
   "execution_count": null,
   "metadata": {},
   "outputs": [],
   "source": [
    "def get_instructor():\n",
    "    return driver.find_element_by_id('instructorDiv').text"
   ]
  },
  {
   "cell_type": "code",
   "execution_count": null,
   "metadata": {},
   "outputs": [],
   "source": [
    "def close():\n",
    "    driver.find_element_by_xpath('//*[@id=\"dlg\"]/div[1]/a/span').click()"
   ]
  },
  {
   "cell_type": "code",
   "execution_count": null,
   "metadata": {
    "scrolled": false
   },
   "outputs": [],
   "source": [
    "ctrs = trs[1:]\n",
    "len(ctrs)"
   ]
  },
  {
   "cell_type": "code",
   "execution_count": null,
   "metadata": {
    "scrolled": true
   },
   "outputs": [],
   "source": [
    "# NOTE: the following method does not collect courses where the activity is \"تدريب\" or \"مشروع\".\n",
    "# If you want to include thenm\n",
    "res = []\n",
    "for x, i in enumerate(ctrs):\n",
    "    tds = i.find_all('td')\n",
    "    if 'مشروع' in tds[3].text or 'تدريب' in tds[3].text: continue\n",
    "    tmp = {\n",
    "        'cid': tds[0].text,\n",
    "        'cname': tds[1].text,\n",
    "        'section': tds[2].text,\n",
    "        'activity': tds[3].text,\n",
    "        'chours': tds[4].text,\n",
    "        'gender': tds[5].text,\n",
    "        'status': tds[6].text\n",
    "    }\n",
    "    press_details_js(x)\n",
    "    driver.implicitly_wait(5)\n",
    "    times = get_times()\n",
    "    tmp['days'],tmp['time'],tmp['location']=(times) if times else ('','','')\n",
    "    final_info = get_final_info()\n",
    "    tmp['fexamday'],tmp['fexamtime'],tmp['fexamdate']=final_info\n",
    "\n",
    "    tmp['instructor'] = get_instructor()\n",
    "    driver.implicitly_wait(5)\n",
    "    close()\n",
    "    driver.implicitly_wait(5)\n",
    "    res.append(tmp)"
   ]
  },
  {
   "cell_type": "code",
   "execution_count": null,
   "metadata": {},
   "outputs": [],
   "source": [
    "len(res)"
   ]
  },
  {
   "cell_type": "code",
   "execution_count": null,
   "metadata": {},
   "outputs": [],
   "source": [
    "import csv\n",
    "keys = res[0].keys()\n",
    "\n",
    "with open(f'{majors_dict[mId]}.csv', 'w',encoding='utf-8-sig', newline='') as output_file:\n",
    "    dict_writer = csv.DictWriter(output_file, keys)\n",
    "    dict_writer.writeheader()\n",
    "    dict_writer.writerows(res)"
   ]
  }
 ],
 "metadata": {
  "kernelspec": {
   "display_name": "Python 3",
   "language": "python",
   "name": "python3"
  },
  "language_info": {
   "codemirror_mode": {
    "name": "ipython",
    "version": 3
   },
   "file_extension": ".py",
   "mimetype": "text/x-python",
   "name": "python",
   "nbconvert_exporter": "python",
   "pygments_lexer": "ipython3",
   "version": "3.7.6"
  }
 },
 "nbformat": 4,
 "nbformat_minor": 4
}
