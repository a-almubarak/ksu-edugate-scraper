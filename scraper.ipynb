{
 "cells": [
  {
   "cell_type": "code",
   "execution_count": null,
   "metadata": {
    "scrolled": true
   },
   "outputs": [],
   "source": [
    "!pip install selenium"
   ]
  },
  {
   "cell_type": "code",
   "execution_count": null,
   "metadata": {
    "scrolled": false
   },
   "outputs": [],
   "source": [
    "!pip install webdriver_manager"
   ]
  },
  {
   "cell_type": "code",
   "execution_count": null,
   "metadata": {},
   "outputs": [],
   "source": [
    "!pip install bs4"
   ]
  },
  {
   "cell_type": "code",
   "execution_count": null,
   "metadata": {
    "scrolled": true
   },
   "outputs": [],
   "source": [
    "!pip install pytesseract"
   ]
  },
  {
   "cell_type": "code",
   "execution_count": 4,
   "metadata": {
    "scrolled": false
   },
   "outputs": [],
   "source": [
    "from selenium import webdriver\n",
    "from webdriver_manager.chrome import ChromeDriverManager\n",
    "from selenium.webdriver.common.by import By\n",
    "from selenium.webdriver.support.ui import WebDriverWait\n",
    "from selenium.webdriver.support import expected_conditions as EC\n",
    "from selenium.webdriver.support.ui import Select\n",
    "from selenium.webdriver.common.keys import Keys"
   ]
  },
  {
   "cell_type": "code",
   "execution_count": 5,
   "metadata": {},
   "outputs": [],
   "source": [
    "from bs4 import BeautifulSoup\n",
    "import base64"
   ]
  },
  {
   "cell_type": "code",
   "execution_count": 6,
   "metadata": {},
   "outputs": [],
   "source": [
    "def get_captcha_image():\n",
    "    img_base64 = driver.execute_script(\"\"\"\n",
    "        var ele = arguments[0];\n",
    "        var cnv = document.createElement('canvas');\n",
    "        cnv.width = 215; cnv.height = 80;\n",
    "        cnv.getContext('2d').drawImage(ele, 0, 0);\n",
    "        return cnv.toDataURL('image/jpeg').substring(22);    \n",
    "        \"\"\", driver.find_element_by_xpath('//*[@id=\"myForm:captchaImage\"]'))   #\"/html/body/form/div[2]/div[3]/span[3]/div[1]/img\"))\n",
    "    with open(r\"image.jpg\", 'wb') as f:\n",
    "        f.write(base64.b64decode(img_base64)) "
   ]
  },
  {
   "cell_type": "code",
   "execution_count": 7,
   "metadata": {},
   "outputs": [],
   "source": [
    "from PIL import Image\n",
    "from pytesseract import pytesseract\n",
    "def get_captcha_number():\n",
    "    # Defining paths to tesseract.exe\n",
    "    # and the image we would be using\n",
    "    get_captcha_image()\n",
    "    path_to_tesseract = r\"C:\\Program Files\\Tesseract-OCR\\tesseract.exe\"\n",
    "    image_path = r\"C:\\Users\\euh27\\Untitled Folder 3\\image.jpg\"\n",
    "\n",
    "    # Opening the image & storing it in an image object\n",
    "    img = Image.open(image_path)\n",
    "\n",
    "    # Providing the tesseract executable\n",
    "    # location to pytesseract library\n",
    "    pytesseract.tesseract_cmd = path_to_tesseract\n",
    "\n",
    "    # Passing the image object to image_to_string() function\n",
    "    # This function will extract the text from the image\n",
    "    text = pytesseract.image_to_string(img)\n",
    "\n",
    "    # Displaying the extracted text\n",
    "    return text[:-1]"
   ]
  },
  {
   "cell_type": "code",
   "execution_count": 8,
   "metadata": {},
   "outputs": [
    {
     "name": "stderr",
     "output_type": "stream",
     "text": [
      "\n",
      "\n",
      "====== WebDriver manager ======\n",
      "Current google-chrome version is 98.0.4758\n",
      "Get LATEST chromedriver version for 98.0.4758 google-chrome\n",
      "Driver [C:\\Users\\euh27\\.wdm\\drivers\\chromedriver\\win32\\98.0.4758.80\\chromedriver.exe] found in cache\n"
     ]
    }
   ],
   "source": [
    "driver = webdriver.Chrome(ChromeDriverManager().install())"
   ]
  },
  {
   "cell_type": "code",
   "execution_count": 9,
   "metadata": {},
   "outputs": [],
   "source": [
    "driver.get(\"https://edugate.ksu.edu.sa/ksu/ui/guest/timetable/index/mainScheduleTreeCoursesIndex.faces\")"
   ]
  },
  {
   "cell_type": "code",
   "execution_count": 10,
   "metadata": {},
   "outputs": [],
   "source": [
    "driver.find_element_by_id('myForm:timetableCrsId').click()"
   ]
  },
  {
   "cell_type": "code",
   "execution_count": 11,
   "metadata": {},
   "outputs": [],
   "source": [
    "Select(driver.find_element_by_id('myForm:campusGenderCodeItem')).select_by_visible_text('ذكر')"
   ]
  },
  {
   "cell_type": "code",
   "execution_count": 12,
   "metadata": {},
   "outputs": [],
   "source": [
    "Select(driver.find_element_by_id('myForm:degreeCodeItem')).select_by_visible_text('البكالوريوس')"
   ]
  },
  {
   "cell_type": "code",
   "execution_count": 13,
   "metadata": {},
   "outputs": [],
   "source": [
    "Select(driver.find_element_by_id('myForm:campusCodeItem')).select_by_visible_text('الرياض- طلاب')"
   ]
  },
  {
   "cell_type": "code",
   "execution_count": 14,
   "metadata": {},
   "outputs": [],
   "source": [
    "Select(driver.find_element_by_id('myForm:facultyCodeItem')).select_by_visible_text('علوم الحاسب والمعلومات')"
   ]
  },
  {
   "cell_type": "code",
   "execution_count": 15,
   "metadata": {},
   "outputs": [],
   "source": [
    "dept = 'الكل'\n",
    "Select(driver.find_element_by_id('myForm:deptCodeItem')).select_by_visible_text(f'{dept}')"
   ]
  },
  {
   "cell_type": "code",
   "execution_count": 24,
   "metadata": {},
   "outputs": [],
   "source": [
    "captcha = driver.find_element_by_id('myForm:capatchaId')\n",
    "captcha.send_keys('')\n",
    "captcha.send_keys(get_captcha_number())\n",
    "captcha.send_keys(Keys.ENTER)"
   ]
  },
  {
   "cell_type": "code",
   "execution_count": 25,
   "metadata": {},
   "outputs": [],
   "source": [
    "driver.find_element_by_xpath('//*[@id=\"myForm\"]/table[4]/tbody/tr[1]/td/table/tbody/tr/td/table/tbody/tr[5]/td[6]/a[2]/table/tbody/tr/td[1]/img').click()"
   ]
  },
  {
   "cell_type": "code",
   "execution_count": 26,
   "metadata": {
    "scrolled": true
   },
   "outputs": [],
   "source": [
    "content = driver.page_source\n",
    "soup = BeautifulSoup(content,features='lxml')\n",
    "rt= soup.find(id=\"myForm:timetable\")\n",
    "# rt"
   ]
  },
  {
   "cell_type": "code",
   "execution_count": 27,
   "metadata": {},
   "outputs": [
    {
     "name": "stdout",
     "output_type": "stream",
     "text": [
      "1335\n"
     ]
    }
   ],
   "source": [
    "trs = rt.find_all('tr')\n",
    "print(len(trs[1:]))"
   ]
  },
  {
   "cell_type": "code",
   "execution_count": 28,
   "metadata": {
    "scrolled": true
   },
   "outputs": [],
   "source": [
    "def press_details(index=1):\n",
    "    details_selector = '#myForm\\:timetable > tbody > tr:nth-child({}) > td:nth-child(8) > a'\n",
    "    details_button = WebDriverWait(driver,10).until(EC.element_to_be_clickable((By.CSS_SELECTOR,details_selector.format(index))))\n",
    "    details_button.click()\n",
    "# press_details(3)"
   ]
  },
  {
   "cell_type": "code",
   "execution_count": 29,
   "metadata": {},
   "outputs": [],
   "source": [
    "def press_details_js(index=0):\n",
    "    driver.execute_script(f\"showToolTipDilaog(event,'{index}');\")\n",
    "# press_details()"
   ]
  },
  {
   "cell_type": "code",
   "execution_count": 30,
   "metadata": {},
   "outputs": [],
   "source": [
    "def get_times():\n",
    "#     times = driver.find_element_by_id('sectionDiv').find_elements_by_tag_name('nobr')\n",
    "    times = WebDriverWait(driver,10).until(EC.element_to_be_clickable((By.ID,'sectionDiv'))).find_elements_by_tag_name('nobr')\n",
    "    if not times:\n",
    "        return None\n",
    "    n=len(times)//3\n",
    "    return [times[i*3].text for i in range(n)], [times[1+i*3].text for i in range(n)] , [times[2+i*3].text for i in range(n)]\n",
    "# tmp = {}\n",
    "# tmp['days'], tmp['time'], tmp['location'] = get_times()\n",
    "# print(tmp)"
   ]
  },
  {
   "cell_type": "code",
   "execution_count": 31,
   "metadata": {},
   "outputs": [],
   "source": [
    "def get_final_info():\n",
    "    return driver.find_element_by_id('examDayDiv').text,driver.find_element_by_id('examTimeDiv').text,driver.find_element_by_id('examDateDiv').text\n",
    "# print(get_final_info())"
   ]
  },
  {
   "cell_type": "code",
   "execution_count": 32,
   "metadata": {},
   "outputs": [],
   "source": [
    "def get_instructor():\n",
    "    return driver.find_element_by_id('instructorDiv').text\n",
    "# print(get_instructor())"
   ]
  },
  {
   "cell_type": "code",
   "execution_count": 33,
   "metadata": {},
   "outputs": [],
   "source": [
    "def close():\n",
    "    driver.find_element_by_xpath('//*[@id=\"dlg\"]/div[1]/a/span').click()"
   ]
  },
  {
   "cell_type": "code",
   "execution_count": 34,
   "metadata": {
    "scrolled": false
   },
   "outputs": [
    {
     "data": {
      "text/plain": [
       "1335"
      ]
     },
     "execution_count": 34,
     "metadata": {},
     "output_type": "execute_result"
    }
   ],
   "source": [
    "ctrs = trs[1:]\n",
    "# print(ctrs)\n",
    "len(ctrs)"
   ]
  },
  {
   "cell_type": "code",
   "execution_count": 37,
   "metadata": {
    "scrolled": true
   },
   "outputs": [],
   "source": [
    "res = []\n",
    "x =0\n",
    "for i in ctrs:\n",
    "    tds = i.find_all('td');\n",
    "    if 'مشروع' in tds[3].text or 'تدريب' in tds[3].text :\n",
    "        try: \n",
    "            close()\n",
    "        except:\n",
    "            pass\n",
    "        x+=1\n",
    "        continue\n",
    "    tmp = {\n",
    "        'cid': tds[0].text,\n",
    "        'cname': tds[1].text,\n",
    "        'section': tds[2].text,\n",
    "        'activity': tds[3].text,\n",
    "        'chours': tds[4].text,\n",
    "        'gender': tds[5].text,\n",
    "        'status': tds[6].text\n",
    "    }\n",
    "    press_details_js(x)\n",
    "    driver.implicitly_wait(5)\n",
    "    times = get_times()\n",
    "    \n",
    "    tmp['days'],tmp['time'],tmp['location']=(times) if times else ('','','')\n",
    "    \n",
    "    final_info = get_final_info()\n",
    "    tmp['fexamday'],tmp['fexamtime'],tmp['fexamdate']=final_info\n",
    "    \n",
    "    tmp['instructor'] = get_instructor()\n",
    "    driver.implicitly_wait(5)\n",
    "    close()\n",
    "    driver.implicitly_wait(5)\n",
    "    res.append(tmp)\n",
    "#     print(res)\n",
    "    x+=1"
   ]
  },
  {
   "cell_type": "code",
   "execution_count": 38,
   "metadata": {},
   "outputs": [
    {
     "data": {
      "text/plain": [
       "1153"
      ]
     },
     "execution_count": 38,
     "metadata": {},
     "output_type": "execute_result"
    }
   ],
   "source": [
    "len(res)"
   ]
  },
  {
   "cell_type": "code",
   "execution_count": 39,
   "metadata": {},
   "outputs": [],
   "source": [
    "import csv\n",
    "keys = res[0].keys()\n",
    "\n",
    "with open('all_ccis_courses.csv', 'w',encoding='utf-8-sig', newline='') as output_file:\n",
    "    dict_writer = csv.DictWriter(output_file, keys)\n",
    "    dict_writer.writeheader()\n",
    "    dict_writer.writerows(res)"
   ]
  }
 ],
 "metadata": {
  "kernelspec": {
   "display_name": "Python 3",
   "language": "python",
   "name": "python3"
  }
 },
 "nbformat": 4,
 "nbformat_minor": 4
}
