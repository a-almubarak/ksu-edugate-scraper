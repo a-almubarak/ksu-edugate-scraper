{
 "cells": [
  {
   "cell_type": "code",
   "execution_count": 1,
   "metadata": {
    "scrolled": true
   },
   "outputs": [
    {
     "name": "stdout",
     "output_type": "stream",
     "text": [
      "Defaulting to user installation because normal site-packages is not writeable\n",
      "Requirement already satisfied: selenium in /home/euh/.local/lib/python3.10/site-packages (4.4.3)\n",
      "Requirement already satisfied: trio-websocket~=0.9 in /home/euh/.local/lib/python3.10/site-packages (from selenium) (0.9.2)\n",
      "Requirement already satisfied: urllib3[socks]~=1.26 in /usr/lib/python3/dist-packages (from selenium) (1.26.5)\n",
      "Requirement already satisfied: certifi>=2021.10.8 in /home/euh/.local/lib/python3.10/site-packages (from selenium) (2022.6.15.1)\n",
      "Requirement already satisfied: trio~=0.17 in /home/euh/.local/lib/python3.10/site-packages (from selenium) (0.21.0)\n",
      "Requirement already satisfied: sniffio in /home/euh/.local/lib/python3.10/site-packages (from trio~=0.17->selenium) (1.3.0)\n",
      "Requirement already satisfied: attrs>=19.2.0 in /usr/lib/python3/dist-packages (from trio~=0.17->selenium) (21.2.0)\n",
      "Requirement already satisfied: idna in /usr/lib/python3/dist-packages (from trio~=0.17->selenium) (3.3)\n",
      "Requirement already satisfied: sortedcontainers in /home/euh/.local/lib/python3.10/site-packages (from trio~=0.17->selenium) (2.4.0)\n",
      "Requirement already satisfied: outcome in /home/euh/.local/lib/python3.10/site-packages (from trio~=0.17->selenium) (1.2.0)\n",
      "Requirement already satisfied: async-generator>=1.9 in /home/euh/.local/lib/python3.10/site-packages (from trio~=0.17->selenium) (1.10)\n",
      "Requirement already satisfied: wsproto>=0.14 in /home/euh/.local/lib/python3.10/site-packages (from trio-websocket~=0.9->selenium) (1.2.0)\n",
      "Requirement already satisfied: PySocks!=1.5.7,<2.0,>=1.5.6 in /home/euh/.local/lib/python3.10/site-packages (from urllib3[socks]~=1.26->selenium) (1.7.1)\n",
      "Requirement already satisfied: h11<1,>=0.9.0 in /home/euh/.local/lib/python3.10/site-packages (from wsproto>=0.14->trio-websocket~=0.9->selenium) (0.13.0)\n"
     ]
    }
   ],
   "source": [
    "!pip install selenium"
   ]
  },
  {
   "cell_type": "code",
   "execution_count": 2,
   "metadata": {
    "scrolled": false
   },
   "outputs": [
    {
     "name": "stdout",
     "output_type": "stream",
     "text": [
      "Defaulting to user installation because normal site-packages is not writeable\n",
      "Requirement already satisfied: webdriver_manager in /home/euh/.local/lib/python3.10/site-packages (3.8.3)\n",
      "Requirement already satisfied: tqdm in /home/euh/.local/lib/python3.10/site-packages (from webdriver_manager) (4.64.1)\n",
      "Requirement already satisfied: requests in /usr/lib/python3/dist-packages (from webdriver_manager) (2.25.1)\n",
      "Requirement already satisfied: python-dotenv in /home/euh/.local/lib/python3.10/site-packages (from webdriver_manager) (0.21.0)\n"
     ]
    }
   ],
   "source": [
    "!pip install webdriver_manager"
   ]
  },
  {
   "cell_type": "code",
   "execution_count": 3,
   "metadata": {},
   "outputs": [
    {
     "name": "stdout",
     "output_type": "stream",
     "text": [
      "Defaulting to user installation because normal site-packages is not writeable\n",
      "Requirement already satisfied: bs4 in /home/euh/.local/lib/python3.10/site-packages (0.0.1)\n",
      "Requirement already satisfied: lxml in /usr/lib/python3/dist-packages (4.8.0)\n",
      "Requirement already satisfied: beautifulsoup4 in /usr/lib/python3/dist-packages (from bs4) (4.10.0)\n"
     ]
    }
   ],
   "source": [
    "!pip install bs4 lxml"
   ]
  },
  {
   "cell_type": "code",
   "execution_count": 4,
   "metadata": {},
   "outputs": [
    {
     "name": "stdout",
     "output_type": "stream",
     "text": [
      "Defaulting to user installation because normal site-packages is not writeable\n",
      "Requirement already satisfied: pymongo in /home/euh/.local/lib/python3.10/site-packages (4.2.0)\n"
     ]
    }
   ],
   "source": [
    "!pip install pymongo"
   ]
  },
  {
   "cell_type": "code",
   "execution_count": 5,
   "metadata": {
    "scrolled": false
   },
   "outputs": [],
   "source": [
    "from selenium import webdriver\n",
    "from webdriver_manager.chrome import ChromeDriverManager\n",
    "from selenium.webdriver.common.by import By\n",
    "from selenium.webdriver.support.ui import WebDriverWait\n",
    "from selenium.webdriver.support import expected_conditions as EC\n",
    "from selenium.webdriver.support.ui import Select\n",
    "from selenium.webdriver.common.keys import Keys"
   ]
  },
  {
   "cell_type": "code",
   "execution_count": 6,
   "metadata": {},
   "outputs": [],
   "source": [
    "from bs4 import BeautifulSoup"
   ]
  },
  {
   "cell_type": "code",
   "execution_count": 7,
   "metadata": {
    "scrolled": true
   },
   "outputs": [
    {
     "name": "stderr",
     "output_type": "stream",
     "text": [
      "/tmp/ipykernel_13399/1503906442.py:1: DeprecationWarning: executable_path has been deprecated, please pass in a Service object\n",
      "  driver = webdriver.Chrome(ChromeDriverManager().install())\n"
     ]
    }
   ],
   "source": [
    "driver = webdriver.Chrome(ChromeDriverManager().install())"
   ]
  },
  {
   "cell_type": "code",
   "execution_count": 8,
   "metadata": {},
   "outputs": [],
   "source": [
    "driver.get(\"https://edugate.ksu.edu.sa/ksu/ui/guest/timetable/index/mainScheduleTreeCoursesIndex.faces\")"
   ]
  },
  {
   "cell_type": "code",
   "execution_count": 9,
   "metadata": {},
   "outputs": [],
   "source": [
    "driver.find_element(By.ID,'myForm:timetableTreeId').click()"
   ]
  },
  {
   "cell_type": "code",
   "execution_count": 10,
   "metadata": {},
   "outputs": [],
   "source": [
    "def has_setIndex(tag):\n",
    "    return tag.has_attr('href') and 'setIndex' in tag['href']"
   ]
  },
  {
   "cell_type": "code",
   "execution_count": 11,
   "metadata": {},
   "outputs": [],
   "source": [
    "source = driver.page_source\n",
    "sp = BeautifulSoup(source, features='lxml')\n",
    "tree = sp.find('div',{\"class\":\"dtree\"})\n",
    "\n",
    "majors_dict = {}\n",
    "for i in tree.find_all(has_setIndex):\n",
    "    start = i['href'].find(\"'\") + 1\n",
    "    end = i['href'].rfind(\"'\")\n",
    "    majors_dict[(i['href'][start:end])] = i.text "
   ]
  },
  {
   "cell_type": "code",
   "execution_count": 12,
   "metadata": {
    "scrolled": false
   },
   "outputs": [
    {
     "name": "stdout",
     "output_type": "stream",
     "text": [
      "  id: Major Name\n",
      "0_0_0 : MRKN-التسويق\n",
      "0_1_0 : IMNN-المالية\n",
      "0_1_1 : IMN1-مسار المالية العام\n",
      "0_2_0 : EC1-الاقتصاد العام\n",
      "0_2_1 : ECN1-مسار الاقتصاد العام\n",
      "0_2_2 : ECN2-مسار المصرفية الاسلامية\n",
      "0_3_0 : PUAN-الإدارة\n",
      "0_3_1 : PUN1-مسار الإدارة\n",
      "0_3_2 : PUN2-مسار إدارة الموارد البشرية\n",
      "0_4_0 : UMP01-إدارة الأعمال عام\n",
      "0_5_0 : ACTN-المحاسبة\n",
      "0_6_0 : INFN-نظم المعلومات الإدارية\n",
      "1_0_0 : UPARB-لغة عربية\n",
      "1_1_0 : MCPR-إعلام-علاقات عامه\n",
      "1_1_1 : UPMC-إعلام (عام)\n",
      "1_1_2 : AVM-مسار الإعلام المرئي والمسموع\n",
      "1_1_3 : PPM-مسار الصحافة والنشر الإلكتروني\n",
      "1_1_4 : SCMX-مسار العلاقات العامة\n",
      "1_2_0 : UPHIS-تاريخ\n",
      "1_3_0 : UPGEO-جغرافيا\n",
      "1_3_1 : GOGD-مسار التنمية الإقليمية\n",
      "1_3_2 : GOGM-مسار الخرائط ونظم المعلومات الجغرافية\n",
      "1_4_0 : UPSC-علم الإجتماع\n",
      "1_4_1 : UPPS-الخدمة الاجتماعية\n",
      "1_5_0 : UPLIB-علم المعلومات\n",
      "1_5_1 : LISM-مسار إدارة مصادر المعلومات وخدماتها\n",
      "1_5_2 : LRME-مسار إدارة السجلات والحفظ الإلكتروني\n",
      "1_6_0 : UPENG-اللغة الإنجليزية\n",
      "2_0_0 : UPPO-العلوم السياسية\n",
      "2_1_0 : UPLAW-الحقوق\n",
      "3_0_0 : ICBL-دراسات اسلاميه (العقيدة)\n",
      "3_0_1 : ICFQ-دراسات اسلاميه ( الفقه و اصوله)\n",
      "3_0_2 : ICHD-دراسات اسلاميه (التفسير والحديث)\n",
      "3_0_3 : UPIC-الدراسات الإسلامية\n",
      "3_0_4 : ICSH-دراسات اسلامية (السنة وعلومها)\n",
      "3_0_5 : ISNE-الدراسات الإسلامية\n",
      "3_0_6 : ISSH-مسار السنة وعلومها\n",
      "3_0_7 : ISFQ-مسار الفقه\n",
      "3_0_8 : ISBL-مسار العقيدة\n",
      "3_1_0 : UPPSY-علم النفس\n",
      "3_1_1 : UPSN-أخصائي نفسي\n",
      "3_2_0 : USLD-التربية الخاصة - مسار الاعاقة السمعية\n",
      "3_2_1 : USLM-التربية الخاصة - مسار التخلف العقلي\n",
      "3_2_2 : USLR-التربية الخاصة - مسار صعوبات التعلم\n",
      "3_2_3 : USLC-التربية الخاصة - مسار الاضطرابات السلوكية والتوحد\n",
      "3_2_4 : USID-التربية الخاصة - مسار الإعاقة الفكرية\n",
      "3_2_5 : USDH-التربية الخاصة - مسار تربية الصم وضعاف السمع\n",
      "3_3_0 : UPART-التربية الفنية\n",
      "3_4_0 : UPMT-الرياضيات\n",
      "3_4_1 : UPPH-الفيزياء\n",
      "3_4_2 : UPCO-الحاسب الآلي\n",
      "3_4_3 : UPNG-اللغة الإنجليزية\n",
      "3_5_0 : QUST-الدراسات القرآنية\n",
      "3_5_1 : QSNE-الدراسات القرآنية\n",
      "4_0_0 : UMP07-تمريض\n",
      "5_0_0 : UPARC-الآثار\n",
      "5_0_1 : ARCC-مسار الآثار\n",
      "5_0_2 : RCAF-مسار ترميم الآثار وصيانتها\n",
      "5_1_0 : HOMA-الإدارة الفندقية\n",
      "5_1_1 : TOMA-الإدارة السياحية\n",
      "5_1_2 : UPTOM-الإدارة السياحية والفندقية\n",
      "5_2_0 : HERI-مسار إدارة موارد التراث\n",
      "5_2_1 : TOGU-مسار الإرشاد السياحي\n",
      "5_2_2 : UPPYH-إدارة موارد التراث والإرشاد السياحي\n",
      "6_0_0 : PHMD-دكتور صيدلة\n",
      "7_0_0 : UMP35-طب وجراحة\n",
      "8_0_0 : MATH-الرياضيات\n",
      "8_0_1 : ACTU-الرياضيات الإكتوارية والمالية\n",
      "8_1_0 : OPER-بحوث العمليات\n",
      "8_1_1 : STAT-الإحصاء\n",
      "8_2_0 : PHYS-الفيزياء\n",
      "8_3_0 : GEO-الجيولوجيا\n",
      "8_3_1 : GPH-الجيوفيزياء\n",
      "8_4_0 : ZOOL-علم الحيوان\n",
      "8_5_0 : BCH-الكيمياء الحيوية\n",
      "8_6_0 : CHEM-الكيمياء\n",
      "8_7_0 : BOT-نبات\n",
      "8_7_1 : MBIO-الاحياء الدقيقة\n",
      "8_7_2 : GMBM-المسار العام\n",
      "9_0_0 : CHHE-علوم صحة المجتمع -تعليم صحى\n",
      "9_0_1 : CLN-التغذية السريرية\n",
      "9_1_0 : CLS-علوم المختبرات الإكلينيكية\n",
      "9_2_0 : DECA-رعاية الأسنان\n",
      "9_2_1 : DETE-تقنية الأسنان\n",
      "9_3_0 : ODOP-دكتور البصريات\n",
      "9_4_0 : BMTI-تقنية طبية حيوية-أجهزة\n",
      "9_5_0 : RHLE-علاج علل النطق والسمع\n",
      "9_5_1 : RHLP-العلاج الطبيعي\n",
      "9_5_2 : RETH-العلاج التنفسي\n",
      "9_5_3 : OCTH-العلاج الوظيفي\n",
      "9_6_0 : RAD-علوم الأشعة\n",
      "10_0_0 : ARCH-العمارة وعلوم البناء\n",
      "10_1_0 : PLP-التخطيط العمراني\n",
      "10_1_1 : PLPN-التخطيط العمراني\n",
      "10_2_0 : UMP46-العمارة والتخطيط عام\n",
      "11_0_0 : UPFRN-اللغة الفرنسية والترجمة\n",
      "11_1_0 : UPSPN-اللغة الإسبانية والترجمة\n",
      "11_1_1 : UPGER-اللغة الألمانية والترجمة\n",
      "11_1_2 : UPJAP-اللغة اليابانية والترجمة\n",
      "11_1_3 : UPTUR-اللغة التركية والترجمة\n",
      "11_1_4 : UPCHI-اللغة الصينية والترجمة\n",
      "11_1_5 : UPHIB-اللغة العبرية والترجمة\n",
      "11_1_6 : UPPAR-اللغة الفارسية والترجمة\n",
      "11_1_7 : UPRUS-اللغة الروسية والترجمة\n",
      "11_2_0 : UPEGT-اللغة الإنجليزية والترجمة\n",
      "12_0_0 : CN-الهندسة المدنية\n",
      "12_0_1 : SEN-هندسة المساحة\n",
      "12_1_0 : ME-الهندسة الميكانيكية\n",
      "12_1_1 : MEN-الهندسة الميكانيكية\n",
      "12_2_0 : PGEN-هندسة البترول والغازالطبيعي\n",
      "12_3_0 : UMP45-الهندسة عام\n",
      "12_4_0 : CHEN-الهندسة الكيميائية\n",
      "12_4_1 : PPIN-الصناعات البترولية والبتروكيميائية\n",
      "12_5_0 : IEDN-الهندسة الصناعية\n",
      "12_6_0 : ELE-الالكترونيات\n",
      "12_6_1 : EEN-الهندسة الكهربائية\n",
      "12_6_2 : ELEN-الالكترونيات\n",
      "12_6_3 : COSN-أنظمة اتصالات\n",
      "12_6_4 : EPEN-القوى الكهربائية\n",
      "13_0_0 : UMP50-طب أسنان عام\n",
      "14_0_0 : PPS-علوم الإنتاج النباتي\n",
      "14_1_0 : PPT-وقاية النبات\n",
      "14_2_0 : AGC-الهندسة الزراعية\n",
      "14_2_1 : AGCT-الهندسة الزراعية\n",
      "14_3_0 : APR-الإنتاج الحيواني\n",
      "14_3_1 : APRT-الإنتاج الحيواني\n",
      "14_4_0 : APEC-الاقتصاد التطبيقي\n",
      "14_4_1 : APET-الاقتصاد التطبيقي\n",
      "14_5_0 : FSNT-علوم الأغذية وتغذية الإنسان\n",
      "14_5_1 : FST-مسار علوم الأغذية\n",
      "14_5_2 : HNT-مسار تغذية الأنسان\n",
      "15_0_0 : CSCN-علوم الحاسب\n",
      "15_1_0 : CENN-هندسة الحاسب\n",
      "15_2_0 : ISN-نظم المعلومات\n",
      "15_3_0 : SWEN-هندسة البرمجيات\n",
      "16_0_0 : EMS-علوم الخدمات الطبية الطارئة\n",
      "17_0_0 : UMPTA-علوم الرياضة والنشاط البدني\n",
      "17_0_1 : TPED-تدريس التربية البدنية\n",
      "17_0_2 : SRMA-الإدارة الرياضية والترويحية\n",
      "17_0_3 : PHFI-اللياقة البدنية\n",
      "17_0_4 : SPCO-التدريب الرياضي\n"
     ]
    }
   ],
   "source": [
    "print(\"%5s\" % \"id:\",\"Major Name\")\n",
    "for i, major in majors_dict.items():\n",
    "    print(\"%5s\" %i, ':', major)"
   ]
  },
  {
   "cell_type": "code",
   "execution_count": 13,
   "metadata": {},
   "outputs": [],
   "source": [
    "def select_major(mId):\n",
    "    mId = mId.strip()\n",
    "    driver.execute_script(f\"setIndex('{mId}')\")"
   ]
  },
  {
   "cell_type": "code",
   "execution_count": 14,
   "metadata": {},
   "outputs": [
    {
     "name": "stdout",
     "output_type": "stream",
     "text": [
      "Enter major id from the above table:16_0_0\n"
     ]
    }
   ],
   "source": [
    "mId = input(\"Enter major id from the above table:\")\n",
    "while mId not in majors_dict:\n",
    "    print(\"Wrong ID, try again!\")\n",
    "    mId = input(\"Enter major id from the above table:\")"
   ]
  },
  {
   "cell_type": "code",
   "execution_count": 15,
   "metadata": {},
   "outputs": [],
   "source": [
    "select_major(mId)"
   ]
  },
  {
   "cell_type": "code",
   "execution_count": 16,
   "metadata": {},
   "outputs": [],
   "source": [
    "#Select search button\n",
    "driver.find_element(By.XPATH,'//*[@id=\"myForm\"]/table[4]/tbody/tr[1]/td/table/tbody/tr/td/table/tbody/tr[5]/td[6]/a[2]/table/tbody/tr/td[1]/img').click()"
   ]
  },
  {
   "cell_type": "code",
   "execution_count": 17,
   "metadata": {},
   "outputs": [],
   "source": [
    "content = driver.page_source\n",
    "soup = BeautifulSoup(content)\n",
    "rt= soup.find(id=\"myForm:timetable\")\n",
    "trs = rt.find_all('tr')"
   ]
  },
  {
   "cell_type": "code",
   "execution_count": 18,
   "metadata": {
    "scrolled": true
   },
   "outputs": [],
   "source": [
    "def press_details(index=1):\n",
    "    details_selector = '#myForm\\:timetable > tbody > tr:nth-child({}) > td:nth-child(8) > a'\n",
    "    details_button = WebDriverWait(driver,10).until(EC.element_to_be_clickable((By.CSS_SELECTOR,details_selector.format(index))))\n",
    "    details_button.click()"
   ]
  },
  {
   "cell_type": "code",
   "execution_count": 19,
   "metadata": {},
   "outputs": [],
   "source": [
    "def press_details_js(index=0):\n",
    "    driver.execute_script(f\"showToolTipDilaog(event,'{index}');\")"
   ]
  },
  {
   "cell_type": "code",
   "execution_count": 20,
   "metadata": {},
   "outputs": [],
   "source": [
    "def get_times():\n",
    "#     times = driver.find_element_by_id('sectionDiv').find_elements_by_tag_name('nobr')\n",
    "    times = WebDriverWait(driver,10).until(EC.element_to_be_clickable((By.ID,'sectionDiv'))).find_elements(By.TAG_NAME,'nobr')\n",
    "    if not times:\n",
    "        return None\n",
    "    n=len(times)//3\n",
    "    return [times[i*3].text for i in range(n)], [times[1+i*3].text for i in range(n)] , [times[2+i*3].text for i in range(n)]"
   ]
  },
  {
   "cell_type": "code",
   "execution_count": 21,
   "metadata": {},
   "outputs": [],
   "source": [
    "def get_final_info():\n",
    "    return driver.find_element(By.ID,'examDayDiv').text,driver.find_element(By.ID,'examTimeDiv').text,driver.find_element(By.ID,'examDateDiv').text"
   ]
  },
  {
   "cell_type": "code",
   "execution_count": 22,
   "metadata": {},
   "outputs": [],
   "source": [
    "def get_instructor():\n",
    "    return driver.find_element(By.ID,'instructorDiv').text"
   ]
  },
  {
   "cell_type": "code",
   "execution_count": 23,
   "metadata": {},
   "outputs": [],
   "source": [
    "def close():\n",
    "    driver.find_element(By.XPATH,'//*[@id=\"dlg\"]/div[1]/a/span').click()"
   ]
  },
  {
   "cell_type": "code",
   "execution_count": 24,
   "metadata": {},
   "outputs": [],
   "source": [
    "# ignore the heading row\n",
    "ctrs = trs[1:]"
   ]
  },
  {
   "cell_type": "code",
   "execution_count": null,
   "metadata": {
    "scrolled": true
   },
   "outputs": [],
   "source": [
    "# NOTE: the following code does not collect courses where the activity is \"تدريب\" or \"مشروع\".\n",
    "# If you want to include thenm comment the if inside the loop\n",
    "res = []\n",
    "for x, i in enumerate(ctrs):\n",
    "    tds = i.find_all('td')\n",
    "    if 'مشروع' in tds[3].text or 'تدريب' in tds[3].text: continue\n",
    "    tmp = {\n",
    "        'cid': tds[0].text,\n",
    "        'cname': tds[1].text,\n",
    "        'section': tds[2].text,\n",
    "        'activity': tds[3].text,\n",
    "        'chours': tds[4].text,\n",
    "        'gender': tds[5].text,\n",
    "        'status': tds[6].text\n",
    "    }\n",
    "    press_details_js(x)\n",
    "    driver.implicitly_wait(5)\n",
    "    times = get_times()\n",
    "    tmp['days'],tmp['time'],tmp['location']=(times) if times else ('','','')\n",
    "    tmp['fexamday'],tmp['fexamtime'],tmp['fexamdate']=get_final_info()\n",
    "    tmp['instructor'] = get_instructor()\n",
    "    driver.implicitly_wait(5)\n",
    "    close()\n",
    "    driver.implicitly_wait(5)\n",
    "    res.append(tmp)"
   ]
  },
  {
   "cell_type": "code",
   "execution_count": null,
   "metadata": {},
   "outputs": [],
   "source": [
    "driver.quit()"
   ]
  },
  {
   "cell_type": "code",
   "execution_count": null,
   "metadata": {},
   "outputs": [],
   "source": [
    "print(\"collected \",len(res),\"courses.\")"
   ]
  },
  {
   "cell_type": "code",
   "execution_count": null,
   "metadata": {},
   "outputs": [],
   "source": [
    "import csv\n",
    "keys = res[0].keys()\n",
    "\n",
    "with open(f'{majors_dict[mId]}.csv', 'w',encoding='utf-8-sig', newline='') as output_file:\n",
    "    dict_writer = csv.DictWriter(output_file, keys)\n",
    "    dict_writer.writeheader()\n",
    "    dict_writer.writerows(res)"
   ]
  }
 ],
 "metadata": {
  "kernelspec": {
   "display_name": "Python 3 (ipykernel)",
   "language": "python",
   "name": "python3"
  },
  "language_info": {
   "codemirror_mode": {
    "name": "ipython",
    "version": 3
   },
   "file_extension": ".py",
   "mimetype": "text/x-python",
   "name": "python",
   "nbconvert_exporter": "python",
   "pygments_lexer": "ipython3",
   "version": "3.10.4"
  }
 },
 "nbformat": 4,
 "nbformat_minor": 4
}
