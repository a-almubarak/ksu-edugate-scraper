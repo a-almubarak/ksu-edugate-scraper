{
 "cells": [
  {
   "cell_type": "code",
   "execution_count": 1,
   "metadata": {
    "scrolled": true
   },
   "outputs": [
    {
     "name": "stdout",
     "output_type": "stream",
     "text": [
      "Defaulting to user installation because normal site-packages is not writeable\n",
      "Requirement already satisfied: selenium in /home/iabdull4h/.local/lib/python3.10/site-packages (4.3.0)\n",
      "Requirement already satisfied: trio-websocket~=0.9 in /home/iabdull4h/.local/lib/python3.10/site-packages (from selenium) (0.9.2)\n",
      "Requirement already satisfied: trio~=0.17 in /home/iabdull4h/.local/lib/python3.10/site-packages (from selenium) (0.21.0)\n",
      "Requirement already satisfied: urllib3[secure,socks]~=1.26 in /usr/lib/python3/dist-packages (from selenium) (1.26.5)\n",
      "Requirement already satisfied: sniffio in /home/iabdull4h/.local/lib/python3.10/site-packages (from trio~=0.17->selenium) (1.2.0)\n",
      "Requirement already satisfied: outcome in /home/iabdull4h/.local/lib/python3.10/site-packages (from trio~=0.17->selenium) (1.2.0)\n",
      "Requirement already satisfied: async-generator>=1.9 in /home/iabdull4h/.local/lib/python3.10/site-packages (from trio~=0.17->selenium) (1.10)\n",
      "Requirement already satisfied: attrs>=19.2.0 in /home/iabdull4h/.local/lib/python3.10/site-packages (from trio~=0.17->selenium) (22.1.0)\n",
      "Requirement already satisfied: idna in /usr/lib/python3/dist-packages (from trio~=0.17->selenium) (3.3)\n",
      "Requirement already satisfied: sortedcontainers in /home/iabdull4h/.local/lib/python3.10/site-packages (from trio~=0.17->selenium) (2.4.0)\n",
      "Requirement already satisfied: wsproto>=0.14 in /home/iabdull4h/.local/lib/python3.10/site-packages (from trio-websocket~=0.9->selenium) (1.1.0)\n",
      "Requirement already satisfied: certifi in /usr/lib/python3/dist-packages (from urllib3[secure,socks]~=1.26->selenium) (2020.6.20)\n",
      "Requirement already satisfied: cryptography>=1.3.4 in /home/iabdull4h/.local/lib/python3.10/site-packages (from urllib3[secure,socks]~=1.26->selenium) (37.0.4)\n",
      "Requirement already satisfied: pyOpenSSL>=0.14 in /home/iabdull4h/.local/lib/python3.10/site-packages (from urllib3[secure,socks]~=1.26->selenium) (22.0.0)\n",
      "Requirement already satisfied: PySocks!=1.5.7,<2.0,>=1.5.6 in /home/iabdull4h/.local/lib/python3.10/site-packages (from urllib3[secure,socks]~=1.26->selenium) (1.7.1)\n",
      "Requirement already satisfied: cffi>=1.12 in /home/iabdull4h/.local/lib/python3.10/site-packages (from cryptography>=1.3.4->urllib3[secure,socks]~=1.26->selenium) (1.15.1)\n",
      "Requirement already satisfied: h11<1,>=0.9.0 in /home/iabdull4h/.local/lib/python3.10/site-packages (from wsproto>=0.14->trio-websocket~=0.9->selenium) (0.13.0)\n",
      "Requirement already satisfied: pycparser in /home/iabdull4h/.local/lib/python3.10/site-packages (from cffi>=1.12->cryptography>=1.3.4->urllib3[secure,socks]~=1.26->selenium) (2.21)\n",
      "\n",
      "\u001b[1m[\u001b[0m\u001b[34;49mnotice\u001b[0m\u001b[1;39;49m]\u001b[0m\u001b[39;49m A new release of pip available: \u001b[0m\u001b[31;49m22.1.2\u001b[0m\u001b[39;49m -> \u001b[0m\u001b[32;49m22.2.1\u001b[0m\n",
      "\u001b[1m[\u001b[0m\u001b[34;49mnotice\u001b[0m\u001b[1;39;49m]\u001b[0m\u001b[39;49m To update, run: \u001b[0m\u001b[32;49mpython3 -m pip install --upgrade pip\u001b[0m\n"
     ]
    }
   ],
   "source": [
    "!pip install selenium"
   ]
  },
  {
   "cell_type": "code",
   "execution_count": 2,
   "metadata": {
    "scrolled": false
   },
   "outputs": [
    {
     "name": "stdout",
     "output_type": "stream",
     "text": [
      "Defaulting to user installation because normal site-packages is not writeable\n",
      "Requirement already satisfied: webdriver_manager in /home/iabdull4h/.local/lib/python3.10/site-packages (3.8.2)\n",
      "Requirement already satisfied: python-dotenv in /home/iabdull4h/.local/lib/python3.10/site-packages (from webdriver_manager) (0.20.0)\n",
      "Requirement already satisfied: requests in /usr/lib/python3/dist-packages (from webdriver_manager) (2.25.1)\n",
      "\n",
      "\u001b[1m[\u001b[0m\u001b[34;49mnotice\u001b[0m\u001b[1;39;49m]\u001b[0m\u001b[39;49m A new release of pip available: \u001b[0m\u001b[31;49m22.1.2\u001b[0m\u001b[39;49m -> \u001b[0m\u001b[32;49m22.2.1\u001b[0m\n",
      "\u001b[1m[\u001b[0m\u001b[34;49mnotice\u001b[0m\u001b[1;39;49m]\u001b[0m\u001b[39;49m To update, run: \u001b[0m\u001b[32;49mpython3 -m pip install --upgrade pip\u001b[0m\n"
     ]
    }
   ],
   "source": [
    "!pip install webdriver_manager"
   ]
  },
  {
   "cell_type": "code",
   "execution_count": 3,
   "metadata": {},
   "outputs": [
    {
     "name": "stdout",
     "output_type": "stream",
     "text": [
      "Defaulting to user installation because normal site-packages is not writeable\n",
      "Requirement already satisfied: bs4 in /home/iabdull4h/.local/lib/python3.10/site-packages (0.0.1)\n",
      "Requirement already satisfied: lxml in /home/iabdull4h/.local/lib/python3.10/site-packages (4.9.1)\n",
      "Requirement already satisfied: beautifulsoup4 in /home/iabdull4h/.local/lib/python3.10/site-packages (from bs4) (4.11.1)\n",
      "Requirement already satisfied: soupsieve>1.2 in /home/iabdull4h/.local/lib/python3.10/site-packages (from beautifulsoup4->bs4) (2.3.2.post1)\n",
      "\n",
      "\u001b[1m[\u001b[0m\u001b[34;49mnotice\u001b[0m\u001b[1;39;49m]\u001b[0m\u001b[39;49m A new release of pip available: \u001b[0m\u001b[31;49m22.1.2\u001b[0m\u001b[39;49m -> \u001b[0m\u001b[32;49m22.2.1\u001b[0m\n",
      "\u001b[1m[\u001b[0m\u001b[34;49mnotice\u001b[0m\u001b[1;39;49m]\u001b[0m\u001b[39;49m To update, run: \u001b[0m\u001b[32;49mpython3 -m pip install --upgrade pip\u001b[0m\n"
     ]
    }
   ],
   "source": [
    "!pip install bs4 lxml"
   ]
  },
  {
   "cell_type": "code",
   "execution_count": 4,
   "metadata": {},
   "outputs": [
    {
     "name": "stdout",
     "output_type": "stream",
     "text": [
      "Defaulting to user installation because normal site-packages is not writeable\n",
      "Requirement already satisfied: pymongo in /home/iabdull4h/.local/lib/python3.10/site-packages (4.2.0)\n",
      "\n",
      "\u001b[1m[\u001b[0m\u001b[34;49mnotice\u001b[0m\u001b[1;39;49m]\u001b[0m\u001b[39;49m A new release of pip available: \u001b[0m\u001b[31;49m22.1.2\u001b[0m\u001b[39;49m -> \u001b[0m\u001b[32;49m22.2.1\u001b[0m\n",
      "\u001b[1m[\u001b[0m\u001b[34;49mnotice\u001b[0m\u001b[1;39;49m]\u001b[0m\u001b[39;49m To update, run: \u001b[0m\u001b[32;49mpython3 -m pip install --upgrade pip\u001b[0m\n"
     ]
    }
   ],
   "source": [
    "!pip install pymongo"
   ]
  },
  {
   "cell_type": "code",
   "execution_count": 5,
   "metadata": {
    "scrolled": false
   },
   "outputs": [],
   "source": [
    "from selenium import webdriver\n",
    "from webdriver_manager.chrome import ChromeDriverManager\n",
    "from selenium.webdriver.common.by import By\n",
    "from selenium.webdriver.support.ui import WebDriverWait\n",
    "from selenium.webdriver.support import expected_conditions as EC\n",
    "from selenium.webdriver.support.ui import Select\n",
    "from selenium.webdriver.common.keys import Keys"
   ]
  },
  {
   "cell_type": "code",
   "execution_count": 6,
   "metadata": {},
   "outputs": [],
   "source": [
    "from bs4 import BeautifulSoup"
   ]
  },
  {
   "cell_type": "code",
   "execution_count": 7,
   "metadata": {
    "scrolled": true
   },
   "outputs": [
    {
     "name": "stdout",
     "output_type": "stream",
     "text": [
      "\n"
     ]
    },
    {
     "name": "stderr",
     "output_type": "stream",
     "text": [
      "/tmp/ipykernel_44516/1503906442.py:1: DeprecationWarning: executable_path has been deprecated, please pass in a Service object\n",
      "  driver = webdriver.Chrome(ChromeDriverManager().install())\n"
     ]
    }
   ],
   "source": [
    "driver = webdriver.Chrome(ChromeDriverManager().install())"
   ]
  },
  {
   "cell_type": "code",
   "execution_count": 8,
   "metadata": {},
   "outputs": [],
   "source": [
    "driver.get(\"https://edugate.ksu.edu.sa/ksu/ui/guest/timetable/index/mainScheduleTreeCoursesIndex.faces\")"
   ]
  },
  {
   "cell_type": "code",
   "execution_count": 9,
   "metadata": {},
   "outputs": [],
   "source": [
    "driver.find_element(By.ID,'myForm:timetableTreeId').click()"
   ]
  },
  {
   "cell_type": "code",
   "execution_count": 10,
   "metadata": {},
   "outputs": [],
   "source": [
    "# driver.find_element_by_id('myForm:timetableTreeId').click()"
   ]
  },
  {
   "cell_type": "code",
   "execution_count": 11,
   "metadata": {},
   "outputs": [],
   "source": [
    "def has_setIndex(tag):\n",
    "    return tag.has_attr('href') and 'setIndex' in tag['href']"
   ]
  },
  {
   "cell_type": "code",
   "execution_count": 12,
   "metadata": {},
   "outputs": [],
   "source": [
    "source = driver.page_source\n",
    "sp = BeautifulSoup(source)\n",
    "tree = sp.find('div',{\"class\":\"dtree\"})\n",
    "\n",
    "majors_dict = {}\n",
    "for i in tree.find_all(has_setIndex):\n",
    "    start = i['href'].find(\"'\") + 1\n",
    "    end = i['href'].rfind(\"'\")\n",
    "    majors_dict[int(i['href'][start:end])] = i.text "
   ]
  },
  {
   "cell_type": "code",
   "execution_count": 13,
   "metadata": {
    "scrolled": false
   },
   "outputs": [
    {
     "name": "stdout",
     "output_type": "stream",
     "text": [
      "  id: Major Name\n",
      "    0 : MRKN-التسويق\n",
      "   10 : IMNN-المالية\n",
      "   11 : IMN1-مسار المالية العام\n",
      "   20 : EC1-الاقتصاد العام\n",
      "   21 : ECN1-مسار الاقتصاد العام\n",
      "   22 : ECN2-مسار المصرفية الاسلامية\n",
      "   30 : PUAN-الإدارة\n",
      "   31 : PUN1-مسار الإدارة\n",
      "   32 : PUN2-مسار إدارة الموارد البشرية\n",
      "   40 : UMP01-إدارة الأعمال عام\n",
      "   50 : ACTN-المحاسبة\n",
      "   60 : INFN-نظم المعلومات الإدارية\n",
      "  100 : UPARB-لغة عربية\n",
      "  110 : MCPR-إعلام-علاقات عامه\n",
      "  111 : UPMC-إعلام (عام)\n",
      "  112 : AVM-مسار الإعلام المرئي والمسموع\n",
      "  113 : PPM-مسار الصحافة والنشر الإلكتروني\n",
      "  114 : SCMX-مسار العلاقات العامة\n",
      "  120 : UPHIS-تاريخ\n",
      "  130 : UPGEO-جغرافيا\n",
      "  131 : GOGD-مسار التنمية الإقليمية\n",
      "  132 : GOGM-مسار الخرائط ونظم المعلومات الجغرافية\n",
      "  140 : UPSC-علم الإجتماع\n",
      "  141 : UPPS-الخدمة الاجتماعية\n",
      "  150 : UPLIB-علم المعلومات\n",
      "  151 : LISM-مسار إدارة مصادر المعلومات وخدماتها\n",
      "  152 : LRME-مسار إدارة السجلات والحفظ الإلكتروني\n",
      "  160 : UPENG-اللغة الإنجليزية\n",
      "  200 : UPPO-العلوم السياسية\n",
      "  210 : UPLAW-الحقوق\n",
      "  300 : ICBL-دراسات اسلاميه (العقيدة)\n",
      "  301 : ICFQ-دراسات اسلاميه ( الفقه و اصوله)\n",
      "  302 : ICHD-دراسات اسلاميه (التفسير والحديث)\n",
      "  303 : UPIC-الدراسات الإسلامية\n",
      "  304 : ICSH-دراسات اسلامية (السنة وعلومها)\n",
      "  305 : ISNE-الدراسات الإسلامية\n",
      "  306 : ISSH-مسار السنة وعلومها\n",
      "  307 : ISFQ-مسار الفقه\n",
      "  308 : ISBL-مسار العقيدة\n",
      "  310 : UPPSY-علم النفس\n",
      "  311 : UPSN-أخصائي نفسي\n",
      "  320 : USLD-التربية الخاصة - مسار الاعاقة السمعية\n",
      "  321 : USLM-التربية الخاصة - مسار التخلف العقلي\n",
      "  322 : USLR-التربية الخاصة - مسار صعوبات التعلم\n",
      "  323 : USLC-التربية الخاصة - مسار الاضطرابات السلوكية والتوحد\n",
      "  324 : USID-التربية الخاصة - مسار الإعاقة الفكرية\n",
      "  325 : USDH-التربية الخاصة - مسار تربية الصم وضعاف السمع\n",
      "  330 : UPART-التربية الفنية\n",
      "  340 : UPMT-الرياضيات\n",
      "  341 : UPPH-الفيزياء\n",
      "  342 : UPCO-الحاسب الآلي\n",
      "  343 : UPNG-اللغة الإنجليزية\n",
      "  350 : QUST-الدراسات القرآنية\n",
      "  351 : QSNE-الدراسات القرآنية\n",
      "  400 : UMP07-تمريض\n",
      "  500 : UPARC-الآثار\n",
      "  501 : ARCC-مسار الآثار\n",
      "  502 : RCAF-مسار ترميم الآثار وصيانتها\n",
      "  510 : HOMA-الإدارة الفندقية\n",
      "  511 : TOMA-الإدارة السياحية\n",
      "  512 : UPTOM-الإدارة السياحية والفندقية\n",
      "  520 : HERI-مسار إدارة موارد التراث\n",
      "  521 : TOGU-مسار الإرشاد السياحي\n",
      "  522 : UPPYH-إدارة موارد التراث والإرشاد السياحي\n",
      "  600 : PHMD-دكتور صيدلة\n",
      "  700 : UMP35-طب وجراحة\n",
      "  800 : MATH-الرياضيات\n",
      "  801 : ACTU-الرياضيات الإكتوارية والمالية\n",
      "  810 : OPER-بحوث العمليات\n",
      "  811 : STAT-الإحصاء\n",
      "  820 : PHYS-الفيزياء\n",
      "  830 : GEO-الجيولوجيا\n",
      "  831 : GPH-الجيوفيزياء\n",
      "  840 : ZOOL-علم الحيوان\n",
      "  850 : BCH-الكيمياء الحيوية\n",
      "  860 : CHEM-الكيمياء\n",
      "  870 : BOT-نبات\n",
      "  871 : MBIO-الاحياء الدقيقة\n",
      "  872 : GMBM-المسار العام\n",
      "  900 : CHHE-علوم صحة المجتمع -تعليم صحى\n",
      "  901 : CLN-التغذية السريرية\n",
      "  910 : CLS-علوم المختبرات الإكلينيكية\n",
      "  920 : DECA-رعاية الأسنان\n",
      "  921 : DETE-تقنية الأسنان\n",
      "  930 : ODOP-دكتور البصريات\n",
      "  940 : BMTI-تقنية طبية حيوية-أجهزة\n",
      "  950 : RHLE-علاج علل النطق والسمع\n",
      "  951 : RHLP-العلاج الطبيعي\n",
      "  952 : RETH-العلاج التنفسي\n",
      "  953 : OCTH-العلاج الوظيفي\n",
      "  960 : RAD-علوم الأشعة\n",
      " 1000 : ARCH-العمارة وعلوم البناء\n",
      " 1010 : PLP-التخطيط العمراني\n",
      " 1011 : PLPN-التخطيط العمراني\n",
      " 1020 : UMP46-العمارة والتخطيط عام\n",
      " 1100 : UPFRN-اللغة الفرنسية والترجمة\n",
      " 1110 : UPSPN-اللغة الإسبانية والترجمة\n",
      " 1111 : UPGER-اللغة الألمانية والترجمة\n",
      " 1112 : UPJAP-اللغة اليابانية والترجمة\n",
      " 1113 : UPTUR-اللغة التركية والترجمة\n",
      " 1114 : UPCHI-اللغة الصينية والترجمة\n",
      " 1115 : UPHIB-اللغة العبرية والترجمة\n",
      " 1116 : UPPAR-اللغة الفارسية والترجمة\n",
      " 1117 : UPRUS-اللغة الروسية والترجمة\n",
      " 1120 : UPEGT-اللغة الإنجليزية والترجمة\n",
      " 1200 : CN-الهندسة المدنية\n",
      " 1201 : SEN-هندسة المساحة\n",
      " 1210 : ME-الهندسة الميكانيكية\n",
      " 1211 : MEN-الهندسة الميكانيكية\n",
      " 1220 : PGEN-هندسة البترول والغازالطبيعي\n",
      " 1230 : UMP45-الهندسة عام\n",
      " 1240 : CHEN-الهندسة الكيميائية\n",
      " 1241 : PPIN-الصناعات البترولية والبتروكيميائية\n",
      " 1250 : IEDN-الهندسة الصناعية\n",
      " 1260 : ELE-الالكترونيات\n",
      " 1261 : EEN-الهندسة الكهربائية\n",
      " 1262 : ELEN-الالكترونيات\n",
      " 1263 : COSN-أنظمة اتصالات\n",
      " 1264 : EPEN-القوى الكهربائية\n",
      " 1300 : UMP50-طب أسنان عام\n",
      " 1400 : PPS-علوم الإنتاج النباتي\n",
      " 1410 : PPT-وقاية النبات\n",
      " 1420 : AGC-الهندسة الزراعية\n",
      " 1421 : AGCT-الهندسة الزراعية\n",
      " 1430 : APR-الإنتاج الحيواني\n",
      " 1431 : APRT-الإنتاج الحيواني\n",
      " 1440 : APEC-الاقتصاد التطبيقي\n",
      " 1441 : APET-الاقتصاد التطبيقي\n",
      " 1450 : FSNT-علوم الأغذية وتغذية الإنسان\n",
      " 1451 : FST-مسار علوم الأغذية\n",
      " 1452 : HNT-مسار تغذية الأنسان\n",
      " 1500 : CSCN-علوم الحاسب\n",
      " 1510 : CENN-هندسة الحاسب\n",
      " 1520 : ISN-نظم المعلومات\n",
      " 1530 : SWEN-هندسة البرمجيات\n",
      " 1600 : EMS-علوم الخدمات الطبية الطارئة\n",
      " 1700 : UMPTA-علوم الرياضة والنشاط البدني\n",
      " 1701 : TPED-تدريس التربية البدنية\n",
      " 1702 : SRMA-الإدارة الرياضية والترويحية\n",
      " 1703 : PHFI-اللياقة البدنية\n",
      " 1704 : SPCO-التدريب الرياضي\n"
     ]
    }
   ],
   "source": [
    "print(\"%5s\" % \"id:\",\"Major Name\")\n",
    "for i, major in majors_dict.items():\n",
    "    print(\"%5d\" %i, ':', major)"
   ]
  },
  {
   "cell_type": "code",
   "execution_count": 14,
   "metadata": {},
   "outputs": [],
   "source": [
    "def select_major(mId):\n",
    "    x = str(mId)\n",
    "    driver.execute_script(f\"setIndex('{x[:2] if len(x) > 2 else '0'}_{x[-2] if len(x) > 1 else '0'}_{x[-1]}')\")"
   ]
  },
  {
   "cell_type": "code",
   "execution_count": 15,
   "metadata": {},
   "outputs": [
    {
     "name": "stdout",
     "output_type": "stream",
     "text": [
      "Enter major id from the above table:1500\n"
     ]
    }
   ],
   "source": [
    "mId = int(input(\"Enter major id from the above table:\"))\n",
    "if mId not in majors_dict:\n",
    "    print(\"Wrong ID, try again!\")"
   ]
  },
  {
   "cell_type": "code",
   "execution_count": 16,
   "metadata": {},
   "outputs": [],
   "source": [
    "select_major(mId)"
   ]
  },
  {
   "cell_type": "code",
   "execution_count": 17,
   "metadata": {},
   "outputs": [],
   "source": [
    "driver.find_element(By.XPATH,'//*[@id=\"myForm\"]/table[4]/tbody/tr[1]/td/table/tbody/tr/td/table/tbody/tr[5]/td[6]/a[2]/table/tbody/tr/td[1]/img').click()"
   ]
  },
  {
   "cell_type": "code",
   "execution_count": 18,
   "metadata": {
    "scrolled": true
   },
   "outputs": [],
   "source": [
    "content = driver.page_source\n",
    "soup = BeautifulSoup(content)\n",
    "rt= soup.find(id=\"myForm:timetable\")\n",
    "# rt"
   ]
  },
  {
   "cell_type": "code",
   "execution_count": 19,
   "metadata": {},
   "outputs": [
    {
     "name": "stdout",
     "output_type": "stream",
     "text": [
      "32\n"
     ]
    }
   ],
   "source": [
    "trs = rt.find_all('tr')\n",
    "print(len(trs[1:]))"
   ]
  },
  {
   "cell_type": "code",
   "execution_count": 20,
   "metadata": {
    "scrolled": true
   },
   "outputs": [],
   "source": [
    "def press_details(index=1):\n",
    "    details_selector = '#myForm\\:timetable > tbody > tr:nth-child({}) > td:nth-child(8) > a'\n",
    "    details_button = WebDriverWait(driver,10).until(EC.element_to_be_clickable((By.CSS_SELECTOR,details_selector.format(index))))\n",
    "    details_button.click()"
   ]
  },
  {
   "cell_type": "code",
   "execution_count": 21,
   "metadata": {},
   "outputs": [],
   "source": [
    "def press_details_js(index=0):\n",
    "    driver.execute_script(f\"showToolTipDilaog(event,'{index}');\")"
   ]
  },
  {
   "cell_type": "code",
   "execution_count": 22,
   "metadata": {},
   "outputs": [],
   "source": [
    "def get_times():\n",
    "#     times = driver.find_element_by_id('sectionDiv').find_elements_by_tag_name('nobr')\n",
    "    times = WebDriverWait(driver,10).until(EC.element_to_be_clickable((By.ID,'sectionDiv'))).find_elements(By.TAG_NAME,'nobr')\n",
    "    if not times:\n",
    "        return None\n",
    "    n=len(times)//3\n",
    "    return [times[i*3].text for i in range(n)], [times[1+i*3].text for i in range(n)] , [times[2+i*3].text for i in range(n)]"
   ]
  },
  {
   "cell_type": "code",
   "execution_count": 23,
   "metadata": {},
   "outputs": [],
   "source": [
    "def get_final_info():\n",
    "    return driver.find_element(By.ID,'examDayDiv').text,driver.find_element(By.ID,'examTimeDiv').text,driver.find_element(By.ID,'examDateDiv').text"
   ]
  },
  {
   "cell_type": "code",
   "execution_count": 24,
   "metadata": {},
   "outputs": [],
   "source": [
    "def get_instructor():\n",
    "    return driver.find_element(By.ID,'instructorDiv').text"
   ]
  },
  {
   "cell_type": "code",
   "execution_count": 25,
   "metadata": {},
   "outputs": [],
   "source": [
    "def close():\n",
    "    driver.find_element(By.XPATH,'//*[@id=\"dlg\"]/div[1]/a/span').click()"
   ]
  },
  {
   "cell_type": "code",
   "execution_count": 26,
   "metadata": {
    "scrolled": false
   },
   "outputs": [
    {
     "data": {
      "text/plain": [
       "32"
      ]
     },
     "execution_count": 26,
     "metadata": {},
     "output_type": "execute_result"
    }
   ],
   "source": [
    "ctrs = trs[1:]\n",
    "len(ctrs)"
   ]
  },
  {
   "cell_type": "code",
   "execution_count": 27,
   "metadata": {
    "scrolled": true
   },
   "outputs": [],
   "source": [
    "# NOTE: the following method does not collect courses where the activity is \"تدريب\" or \"مشروع\".\n",
    "# If you want to include thenm\n",
    "res = []\n",
    "for x, i in enumerate(ctrs):\n",
    "    tds = i.find_all('td')\n",
    "    if 'مشروع' in tds[3].text or 'تدريب' in tds[3].text: continue\n",
    "    tmp = {\n",
    "        'cid': tds[0].text,\n",
    "        'cname': tds[1].text,\n",
    "        'section': tds[2].text,\n",
    "        'activity': tds[3].text,\n",
    "        'chours': tds[4].text,\n",
    "        'gender': tds[5].text,\n",
    "        'status': tds[6].text\n",
    "    }\n",
    "    press_details_js(x)\n",
    "    driver.implicitly_wait(5)\n",
    "    times = get_times()\n",
    "    tmp['days'],tmp['time'],tmp['location']=(times) if times else ('','','')\n",
    "    final_info = get_final_info()\n",
    "    tmp['fexamday'],tmp['fexamtime'],tmp['fexamdate']=final_info\n",
    "\n",
    "    tmp['instructor'] = get_instructor()\n",
    "    driver.implicitly_wait(5)\n",
    "    close()\n",
    "    driver.implicitly_wait(5)\n",
    "    res.append(tmp)"
   ]
  },
  {
   "cell_type": "code",
   "execution_count": 28,
   "metadata": {},
   "outputs": [
    {
     "data": {
      "text/plain": [
       "<pymongo.results.InsertManyResult at 0x7fa686ea1750>"
      ]
     },
     "execution_count": 28,
     "metadata": {},
     "output_type": "execute_result"
    }
   ],
   "source": [
    "# NOTE: the following method does not collect courses where the activity is \"تدريب\" or \"مشروع\".\n",
    "# If you want to include thenm\n",
    "from pymongo import MongoClient\n",
    "client = MongoClient(\"mongodb://localhost:27017/\")\n",
    "db = client[\"edugate_courses\"]\n",
    "collection = db[f'{majors_dict[mId]}']\n",
    "collection.insert_many(res)\n",
    "# for x, i in enumerate(ctrs):\n",
    "#     tds = i.find_all('td')\n",
    "#     if 'مشروع' in tds[3].text or 'تدريب' in tds[3].text: continue\n",
    "#     tmp = {\n",
    "#         'cid': tds[0].text,\n",
    "#         'cname': tds[1].text,\n",
    "#         'section': tds[2].text,\n",
    "#         'activity': tds[3].text,\n",
    "#         'chours': tds[4].text,\n",
    "#         'gender': tds[5].text,\n",
    "#         'status': tds[6].text\n",
    "#     }\n",
    "#     press_details_js(x)\n",
    "#     driver.implicitly_wait(5)\n",
    "#     times = get_times()\n",
    "#     tmp['days'],tmp['time'],tmp['location']=(times) if times else ('','','')\n",
    "#     final_info = get_final_info()\n",
    "#     tmp['fexamday'],tmp['fexamtime'],tmp['fexamdate']=final_info\n",
    "\n",
    "#     tmp['instructor'] = get_instructor()\n",
    "#     driver.implicitly_wait(5)\n",
    "#     close()\n",
    "#     driver.implicitly_wait(5)\n",
    "#     collection.insert_one(tmp)"
   ]
  },
  {
   "cell_type": "code",
   "execution_count": 29,
   "metadata": {},
   "outputs": [],
   "source": [
    "driver.quit()"
   ]
  },
  {
   "cell_type": "code",
   "execution_count": 30,
   "metadata": {},
   "outputs": [
    {
     "data": {
      "text/plain": [
       "30"
      ]
     },
     "execution_count": 30,
     "metadata": {},
     "output_type": "execute_result"
    }
   ],
   "source": [
    "len(res)"
   ]
  },
  {
   "cell_type": "code",
   "execution_count": 31,
   "metadata": {},
   "outputs": [],
   "source": [
    "import csv\n",
    "keys = res[0].keys()\n",
    "\n",
    "with open(f'{majors_dict[mId]}.csv', 'w',encoding='utf-8-sig', newline='') as output_file:\n",
    "    dict_writer = csv.DictWriter(output_file, keys)\n",
    "    dict_writer.writeheader()\n",
    "    dict_writer.writerows(res)"
   ]
  },
  {
   "cell_type": "code",
   "execution_count": 32,
   "metadata": {},
   "outputs": [
    {
     "ename": "TypeError",
     "evalue": "Object of type ObjectId is not JSON serializable",
     "output_type": "error",
     "traceback": [
      "\u001b[0;31m---------------------------------------------------------------------------\u001b[0m",
      "\u001b[0;31mTypeError\u001b[0m                                 Traceback (most recent call last)",
      "Input \u001b[0;32mIn [32]\u001b[0m, in \u001b[0;36m<cell line: 2>\u001b[0;34m()\u001b[0m\n\u001b[1;32m      1\u001b[0m \u001b[38;5;28;01mimport\u001b[39;00m \u001b[38;5;21;01mjson\u001b[39;00m\n\u001b[1;32m      2\u001b[0m \u001b[38;5;28;01mwith\u001b[39;00m \u001b[38;5;28mopen\u001b[39m(\u001b[38;5;124mf\u001b[39m\u001b[38;5;124m'\u001b[39m\u001b[38;5;132;01m{\u001b[39;00mmajors_dict[mId]\u001b[38;5;132;01m}\u001b[39;00m\u001b[38;5;124m.json\u001b[39m\u001b[38;5;124m'\u001b[39m, \u001b[38;5;124m'\u001b[39m\u001b[38;5;124mw\u001b[39m\u001b[38;5;124m'\u001b[39m, encoding\u001b[38;5;241m=\u001b[39m\u001b[38;5;124m\"\u001b[39m\u001b[38;5;124mutf-8-sig\u001b[39m\u001b[38;5;124m\"\u001b[39m)\u001b[38;5;28;01mas\u001b[39;00m output_file:\n\u001b[0;32m----> 3\u001b[0m     \u001b[43mjson\u001b[49m\u001b[38;5;241;43m.\u001b[39;49m\u001b[43mdump\u001b[49m\u001b[43m(\u001b[49m\u001b[43mres\u001b[49m\u001b[43m,\u001b[49m\u001b[43moutput_file\u001b[49m\u001b[43m)\u001b[49m\n",
      "File \u001b[0;32m/usr/lib/python3.10/json/__init__.py:179\u001b[0m, in \u001b[0;36mdump\u001b[0;34m(obj, fp, skipkeys, ensure_ascii, check_circular, allow_nan, cls, indent, separators, default, sort_keys, **kw)\u001b[0m\n\u001b[1;32m    173\u001b[0m     iterable \u001b[38;5;241m=\u001b[39m \u001b[38;5;28mcls\u001b[39m(skipkeys\u001b[38;5;241m=\u001b[39mskipkeys, ensure_ascii\u001b[38;5;241m=\u001b[39mensure_ascii,\n\u001b[1;32m    174\u001b[0m         check_circular\u001b[38;5;241m=\u001b[39mcheck_circular, allow_nan\u001b[38;5;241m=\u001b[39mallow_nan, indent\u001b[38;5;241m=\u001b[39mindent,\n\u001b[1;32m    175\u001b[0m         separators\u001b[38;5;241m=\u001b[39mseparators,\n\u001b[1;32m    176\u001b[0m         default\u001b[38;5;241m=\u001b[39mdefault, sort_keys\u001b[38;5;241m=\u001b[39msort_keys, \u001b[38;5;241m*\u001b[39m\u001b[38;5;241m*\u001b[39mkw)\u001b[38;5;241m.\u001b[39miterencode(obj)\n\u001b[1;32m    177\u001b[0m \u001b[38;5;66;03m# could accelerate with writelines in some versions of Python, at\u001b[39;00m\n\u001b[1;32m    178\u001b[0m \u001b[38;5;66;03m# a debuggability cost\u001b[39;00m\n\u001b[0;32m--> 179\u001b[0m \u001b[38;5;28;01mfor\u001b[39;00m chunk \u001b[38;5;129;01min\u001b[39;00m iterable:\n\u001b[1;32m    180\u001b[0m     fp\u001b[38;5;241m.\u001b[39mwrite(chunk)\n",
      "File \u001b[0;32m/usr/lib/python3.10/json/encoder.py:429\u001b[0m, in \u001b[0;36m_make_iterencode.<locals>._iterencode\u001b[0;34m(o, _current_indent_level)\u001b[0m\n\u001b[1;32m    427\u001b[0m     \u001b[38;5;28;01myield\u001b[39;00m _floatstr(o)\n\u001b[1;32m    428\u001b[0m \u001b[38;5;28;01melif\u001b[39;00m \u001b[38;5;28misinstance\u001b[39m(o, (\u001b[38;5;28mlist\u001b[39m, \u001b[38;5;28mtuple\u001b[39m)):\n\u001b[0;32m--> 429\u001b[0m     \u001b[38;5;28;01myield from\u001b[39;00m _iterencode_list(o, _current_indent_level)\n\u001b[1;32m    430\u001b[0m \u001b[38;5;28;01melif\u001b[39;00m \u001b[38;5;28misinstance\u001b[39m(o, \u001b[38;5;28mdict\u001b[39m):\n\u001b[1;32m    431\u001b[0m     \u001b[38;5;28;01myield from\u001b[39;00m _iterencode_dict(o, _current_indent_level)\n",
      "File \u001b[0;32m/usr/lib/python3.10/json/encoder.py:325\u001b[0m, in \u001b[0;36m_make_iterencode.<locals>._iterencode_list\u001b[0;34m(lst, _current_indent_level)\u001b[0m\n\u001b[1;32m    323\u001b[0m         \u001b[38;5;28;01melse\u001b[39;00m:\n\u001b[1;32m    324\u001b[0m             chunks \u001b[38;5;241m=\u001b[39m _iterencode(value, _current_indent_level)\n\u001b[0;32m--> 325\u001b[0m         \u001b[38;5;28;01myield from\u001b[39;00m chunks\n\u001b[1;32m    326\u001b[0m \u001b[38;5;28;01mif\u001b[39;00m newline_indent \u001b[38;5;129;01mis\u001b[39;00m \u001b[38;5;129;01mnot\u001b[39;00m \u001b[38;5;28;01mNone\u001b[39;00m:\n\u001b[1;32m    327\u001b[0m     _current_indent_level \u001b[38;5;241m-\u001b[39m\u001b[38;5;241m=\u001b[39m \u001b[38;5;241m1\u001b[39m\n",
      "File \u001b[0;32m/usr/lib/python3.10/json/encoder.py:405\u001b[0m, in \u001b[0;36m_make_iterencode.<locals>._iterencode_dict\u001b[0;34m(dct, _current_indent_level)\u001b[0m\n\u001b[1;32m    403\u001b[0m         \u001b[38;5;28;01melse\u001b[39;00m:\n\u001b[1;32m    404\u001b[0m             chunks \u001b[38;5;241m=\u001b[39m _iterencode(value, _current_indent_level)\n\u001b[0;32m--> 405\u001b[0m         \u001b[38;5;28;01myield from\u001b[39;00m chunks\n\u001b[1;32m    406\u001b[0m \u001b[38;5;28;01mif\u001b[39;00m newline_indent \u001b[38;5;129;01mis\u001b[39;00m \u001b[38;5;129;01mnot\u001b[39;00m \u001b[38;5;28;01mNone\u001b[39;00m:\n\u001b[1;32m    407\u001b[0m     _current_indent_level \u001b[38;5;241m-\u001b[39m\u001b[38;5;241m=\u001b[39m \u001b[38;5;241m1\u001b[39m\n",
      "File \u001b[0;32m/usr/lib/python3.10/json/encoder.py:438\u001b[0m, in \u001b[0;36m_make_iterencode.<locals>._iterencode\u001b[0;34m(o, _current_indent_level)\u001b[0m\n\u001b[1;32m    436\u001b[0m         \u001b[38;5;28;01mraise\u001b[39;00m \u001b[38;5;167;01mValueError\u001b[39;00m(\u001b[38;5;124m\"\u001b[39m\u001b[38;5;124mCircular reference detected\u001b[39m\u001b[38;5;124m\"\u001b[39m)\n\u001b[1;32m    437\u001b[0m     markers[markerid] \u001b[38;5;241m=\u001b[39m o\n\u001b[0;32m--> 438\u001b[0m o \u001b[38;5;241m=\u001b[39m \u001b[43m_default\u001b[49m\u001b[43m(\u001b[49m\u001b[43mo\u001b[49m\u001b[43m)\u001b[49m\n\u001b[1;32m    439\u001b[0m \u001b[38;5;28;01myield from\u001b[39;00m _iterencode(o, _current_indent_level)\n\u001b[1;32m    440\u001b[0m \u001b[38;5;28;01mif\u001b[39;00m markers \u001b[38;5;129;01mis\u001b[39;00m \u001b[38;5;129;01mnot\u001b[39;00m \u001b[38;5;28;01mNone\u001b[39;00m:\n",
      "File \u001b[0;32m/usr/lib/python3.10/json/encoder.py:179\u001b[0m, in \u001b[0;36mJSONEncoder.default\u001b[0;34m(self, o)\u001b[0m\n\u001b[1;32m    160\u001b[0m \u001b[38;5;28;01mdef\u001b[39;00m \u001b[38;5;21mdefault\u001b[39m(\u001b[38;5;28mself\u001b[39m, o):\n\u001b[1;32m    161\u001b[0m     \u001b[38;5;124;03m\"\"\"Implement this method in a subclass such that it returns\u001b[39;00m\n\u001b[1;32m    162\u001b[0m \u001b[38;5;124;03m    a serializable object for ``o``, or calls the base implementation\u001b[39;00m\n\u001b[1;32m    163\u001b[0m \u001b[38;5;124;03m    (to raise a ``TypeError``).\u001b[39;00m\n\u001b[0;32m   (...)\u001b[0m\n\u001b[1;32m    177\u001b[0m \n\u001b[1;32m    178\u001b[0m \u001b[38;5;124;03m    \"\"\"\u001b[39;00m\n\u001b[0;32m--> 179\u001b[0m     \u001b[38;5;28;01mraise\u001b[39;00m \u001b[38;5;167;01mTypeError\u001b[39;00m(\u001b[38;5;124mf\u001b[39m\u001b[38;5;124m'\u001b[39m\u001b[38;5;124mObject of type \u001b[39m\u001b[38;5;132;01m{\u001b[39;00mo\u001b[38;5;241m.\u001b[39m\u001b[38;5;18m__class__\u001b[39m\u001b[38;5;241m.\u001b[39m\u001b[38;5;18m__name__\u001b[39m\u001b[38;5;132;01m}\u001b[39;00m\u001b[38;5;124m \u001b[39m\u001b[38;5;124m'\u001b[39m\n\u001b[1;32m    180\u001b[0m                     \u001b[38;5;124mf\u001b[39m\u001b[38;5;124m'\u001b[39m\u001b[38;5;124mis not JSON serializable\u001b[39m\u001b[38;5;124m'\u001b[39m)\n",
      "\u001b[0;31mTypeError\u001b[0m: Object of type ObjectId is not JSON serializable"
     ]
    }
   ],
   "source": [
    "import json\n",
    "with open(f'{majors_dict[mId]}.json', 'w', encoding=\"utf-8-sig\")as output_file:\n",
    "    json.dump(res,output_file)"
   ]
  },
  {
   "cell_type": "code",
   "execution_count": null,
   "metadata": {},
   "outputs": [],
   "source": []
  }
 ],
 "metadata": {
  "kernelspec": {
   "display_name": "Python 3 (ipykernel)",
   "language": "python",
   "name": "python3"
  },
  "language_info": {
   "codemirror_mode": {
    "name": "ipython",
    "version": 3
   },
   "file_extension": ".py",
   "mimetype": "text/x-python",
   "name": "python",
   "nbconvert_exporter": "python",
   "pygments_lexer": "ipython3",
   "version": "3.10.4"
  }
 },
 "nbformat": 4,
 "nbformat_minor": 4
}
